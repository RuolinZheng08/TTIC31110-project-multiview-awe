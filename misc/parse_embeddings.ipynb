{
 "cells": [
  {
   "cell_type": "code",
   "execution_count": 47,
   "metadata": {},
   "outputs": [],
   "source": [
    "import numpy as np\n",
    "import csv"
   ]
  },
  {
   "cell_type": "code",
   "execution_count": 2,
   "metadata": {},
   "outputs": [],
   "source": [
    "emb = np.load('test-embs.npz')"
   ]
  },
  {
   "cell_type": "code",
   "execution_count": 3,
   "metadata": {},
   "outputs": [
    {
     "data": {
      "text/plain": [
       "['crossview_ap',\n",
       " 'embs2',\n",
       " 'ids2',\n",
       " 'words2',\n",
       " 'acoustic_ap',\n",
       " 'embs1',\n",
       " 'ids1',\n",
       " 'words1']"
      ]
     },
     "execution_count": 3,
     "metadata": {},
     "output_type": "execute_result"
    }
   ],
   "source": [
    "list(emb.keys())"
   ]
  },
  {
   "cell_type": "code",
   "execution_count": 4,
   "metadata": {
    "scrolled": true
   },
   "outputs": [
    {
     "data": {
      "text/plain": [
       "((11024, 1024), (3392, 1024))"
      ]
     },
     "execution_count": 4,
     "metadata": {},
     "output_type": "execute_result"
    }
   ],
   "source": [
    "emb['embs1'].shape, emb['embs2'].shape"
   ]
  },
  {
   "cell_type": "code",
   "execution_count": 5,
   "metadata": {},
   "outputs": [
    {
     "data": {
      "text/plain": [
       "(3392, 11024)"
      ]
     },
     "execution_count": 5,
     "metadata": {},
     "output_type": "execute_result"
    }
   ],
   "source": [
    "len(set(emb['words1'])), len(emb['words1'])"
   ]
  },
  {
   "cell_type": "code",
   "execution_count": 46,
   "metadata": {},
   "outputs": [],
   "source": [
    "common_suffix_ids = {'ly': [], 'ing': [], 'tion': []} # ids\n",
    "for idx, word in enumerate(emb['words1']):\n",
    "    if word.endswith('ly'):\n",
    "        common_suffix_ids['ly'].append(idx)\n",
    "    elif word.endswith('ing'):\n",
    "        common_suffix_ids['ing'].append(idx)\n",
    "    elif word.endswith('tion'):\n",
    "        common_suffix_ids['tion'].append(idx)"
   ]
  },
  {
   "cell_type": "code",
   "execution_count": 38,
   "metadata": {},
   "outputs": [],
   "source": [
    "indices = []\n",
    "for key in common_suffix_ids:\n",
    "    indices.extend(common_suffix_ids[key])"
   ]
  },
  {
   "cell_type": "code",
   "execution_count": 49,
   "metadata": {},
   "outputs": [],
   "source": [
    "sub = np.random.randint(0, len(indices), 200)\n",
    "indices = np.array(indices)[sub]"
   ]
  },
  {
   "cell_type": "code",
   "execution_count": 52,
   "metadata": {},
   "outputs": [
    {
     "data": {
      "text/plain": [
       "(200, 1024)"
      ]
     },
     "execution_count": 52,
     "metadata": {},
     "output_type": "execute_result"
    }
   ],
   "source": [
    "emb['embs1'][indices].shape"
   ]
  },
  {
   "cell_type": "code",
   "execution_count": 50,
   "metadata": {},
   "outputs": [],
   "source": [
    "np.savetxt('test-embs-vecs.tsv', emb['embs1'][indices], delimiter='\\t')"
   ]
  },
  {
   "cell_type": "code",
   "execution_count": 51,
   "metadata": {},
   "outputs": [],
   "source": [
    "with open('test-embs-meta.tsv', 'w') as f:\n",
    "    writer = csv.writer(f, delimiter='\\t')\n",
    "    writer.writerow(['Word', 'Suffix'])\n",
    "    for word in emb['words1'][indices]:\n",
    "        if word.endswith('ly'):\n",
    "            writer.writerow([word, 'ly'])\n",
    "        elif word.endswith('ing'):\n",
    "            writer.writerow([word, 'ing'])\n",
    "        elif word.endswith('tion'):\n",
    "            writer.writerow([word, 'tion'])"
   ]
  }
 ],
 "metadata": {
  "kernelspec": {
   "display_name": "Python 3",
   "language": "python",
   "name": "python3"
  },
  "language_info": {
   "codemirror_mode": {
    "name": "ipython",
    "version": 3
   },
   "file_extension": ".py",
   "mimetype": "text/x-python",
   "name": "python",
   "nbconvert_exporter": "python",
   "pygments_lexer": "ipython3",
   "version": "3.8.0"
  }
 },
 "nbformat": 4,
 "nbformat_minor": 2
}
