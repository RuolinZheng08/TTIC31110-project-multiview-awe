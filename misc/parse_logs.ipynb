{
 "cells": [
  {
   "cell_type": "code",
   "execution_count": 67,
   "metadata": {},
   "outputs": [],
   "source": [
    "import re\n",
    "import os\n",
    "import matplotlib.pyplot as plt"
   ]
  },
  {
   "cell_type": "code",
   "execution_count": 68,
   "metadata": {},
   "outputs": [],
   "source": [
    "def get_aps(fname):\n",
    "    with open(fname, 'rt') as f:\n",
    "        log = f.read()\n",
    "    acoustic_aps = [float(num) for num in re.findall(r'acoustic_ap=[0-9](\\.[0-9]+)?', log)]\n",
    "    crossview_aps = [float(num) for num in re.findall(r'crossview_ap=[0-9](\\.[0-9]+)?', log)]\n",
    "    return acoustic_aps, crossview_aps"
   ]
  },
  {
   "cell_type": "code",
   "execution_count": null,
   "metadata": {},
   "outputs": [],
   "source": [
    "plt.figure(figsize=(20, 10))\n",
    "for fname in os.listdir('logs'):\n",
    "    aps, _ = get_aps('logs/' + fname)\n",
    "    plt.plot(range(len(aps)), aps, label=fname[:-4])\n",
    "plt.gca().yaxis.set_major_locator(plt.MaxNLocator(10))\n",
    "plt.legend()\n",
    "plt.xlabel('# epochs')\n",
    "plt.ylabel('Train Acoustic AP')\n",
    "plt.savefig('acoustic_ap_train.png')\n",
    "plt.show()"
   ]
  }
 ],
 "metadata": {
  "kernelspec": {
   "display_name": "Python 3",
   "language": "python",
   "name": "python3"
  },
  "language_info": {
   "codemirror_mode": {
    "name": "ipython",
    "version": 3
   },
   "file_extension": ".py",
   "mimetype": "text/x-python",
   "name": "python",
   "nbconvert_exporter": "python",
   "pygments_lexer": "ipython3",
   "version": "3.8.0"
  }
 },
 "nbformat": 4,
 "nbformat_minor": 2
}
